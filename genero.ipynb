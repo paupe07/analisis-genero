{
 "cells": [
  {
   "cell_type": "markdown",
   "id": "a8773b3c",
   "metadata": {},
   "source": []
  },
  {
   "cell_type": "code",
   "execution_count": null,
   "id": "e9528d70",
   "metadata": {},
   "outputs": [],
   "source": []
  },
  {
   "cell_type": "code",
   "execution_count": 1,
   "id": "8031367e",
   "metadata": {},
   "outputs": [
    {
     "name": "stdout",
     "output_type": "stream",
     "text": [
      "<class 'pandas.core.frame.DataFrame'>\n",
      "RangeIndex: 284 entries, 0 to 283\n",
      "Data columns (total 5 columns):\n",
      " #   Column                      Non-Null Count  Dtype \n",
      "---  ------                      --------------  ----- \n",
      " 0   provincia_id                284 non-null    int64 \n",
      " 1   provincia_nombre            284 non-null    object\n",
      " 2   genero                      284 non-null    object\n",
      " 3   edad_actual_grandes_grupos  284 non-null    object\n",
      " 4   cantidad                    284 non-null    int64 \n",
      "dtypes: int64(2), object(3)\n",
      "memory usage: 11.2+ KB\n",
      "Valores únicos en la columna 'genero':\n",
      "['F' 'M' 'X']\n",
      "\n",
      "\n",
      "Valores únicos en la columna 'provincia_nombre':\n",
      "['Buenos Aires' 'Catamarca' 'Chaco' 'Chubut'\n",
      " 'Ciudad Autónoma de Buenos Aires' 'Córdoba' 'Corrientes' 'Entre Ríos'\n",
      " 'Formosa' 'Jujuy' 'La Pampa' 'La Rioja' 'Mendoza' 'Misiones' 'Neuquén'\n",
      " 'Otro Pais' 'Río Negro' 'Salta' 'San Juan' 'San Luis' 'Santa Cruz'\n",
      " 'Santa Fe' 'Santiago del Estero' 'Tierra del Fuego' 'Tucumán']\n",
      "Distribución total de cantidad por género:\n",
      "genero\n",
      "F    9730\n",
      "M    7381\n",
      "X    1692\n",
      "Name: cantidad, dtype: int64\n"
     ]
    }
   ],
   "source": [
    "import pandas as pd\n",
    "#1limpieza de datos \n",
    "#creamos variable para ingresar el archivo\n",
    "nombre_archivo = 'cambiogenero.csv'\n",
    "\n",
    "#leer archivo csv. tambien se puede ingresar ruta \n",
    "df = pd.read_csv (nombre_archivo)\n",
    "\n",
    "#muestra los primeros valores del dataset\n",
    "df.head();\n",
    "\n",
    "# muestra las columnas que tenemos en el archivo\n",
    "df.info()\n",
    "\n",
    "#para ver los valores nulos \n",
    "df.isnull().sum()\n",
    "\n",
    "\n",
    "# Revisa los valores únicos en la columna 'genero'\n",
    "print(\"Valores únicos en la columna 'genero':\")\n",
    "print(df['genero'].unique())\n",
    "\n",
    "print(\"\\n\")\n",
    "\n",
    "# Revisa los valores únicos en la columna 'provincia_nombre'\n",
    "print(\"Valores únicos en la columna 'provincia_nombre':\")\n",
    "print(df['provincia_nombre'].unique())\n",
    "\n",
    "#2 analisis\n",
    "#analisis por genero \n",
    "\n",
    "# Agrupa los datos por la columna 'genero' y suma la columna 'cantidad'\n",
    "distribucion_genero = df.groupby('genero')['cantidad'].sum()\n",
    "\n",
    "print(\"Distribución total de cantidad por género:\")\n",
    "print(distribucion_genero)\n",
    "\n",
    "\n",
    "\n"
   ]
  },
  {
   "cell_type": "code",
   "execution_count": 2,
   "id": "6779157d",
   "metadata": {},
   "outputs": [
    {
     "name": "stdout",
     "output_type": "stream",
     "text": [
      "\n",
      "Distribución total de cantidad por provincia (ordenado de mayor a menor):\n",
      "provincia_nombre\n",
      "Buenos Aires                       6949\n",
      "Ciudad Autónoma de Buenos Aires    2338\n",
      "Santa Fe                           1503\n",
      "Córdoba                            1489\n",
      "Salta                               695\n",
      "Tucumán                             673\n",
      "Mendoza                             613\n",
      "Entre Ríos                          495\n",
      "Neuquén                             378\n",
      "Jujuy                               352\n",
      "Río Negro                           318\n",
      "Chubut                              306\n",
      "Corrientes                          291\n",
      "San Juan                            287\n",
      "San Luis                            254\n",
      "Chaco                               246\n",
      "Santiago del Estero                 246\n",
      "Misiones                            224\n",
      "La Rioja                            192\n",
      "Otro Pais                           181\n",
      "Catamarca                           176\n",
      "Santa Cruz                          174\n",
      "La Pampa                            158\n",
      "Formosa                             149\n",
      "Tierra del Fuego                    116\n",
      "Name: cantidad, dtype: int64\n"
     ]
    }
   ],
   "source": [
    "# Agrupa los datos por provincia y suma la cantidad, ordenando de mayor a menor\n",
    "distribucion_provincia = df.groupby('provincia_nombre')['cantidad'].sum().sort_values(ascending=False)\n",
    "\n",
    "print(\"\\nDistribución total de cantidad por provincia (ordenado de mayor a menor):\")\n",
    "print(distribucion_provincia)"
   ]
  },
  {
   "cell_type": "code",
   "execution_count": 3,
   "id": "cbd1e9ea",
   "metadata": {},
   "outputs": [],
   "source": [
    "# Guarda el DataFrame limpio en un nuevo archivo CSV\n",
    "df.to_csv('datos_limpios_genero.csv', index=False)"
   ]
  },
  {
   "cell_type": "code",
   "execution_count": 4,
   "id": "363fb5c9",
   "metadata": {},
   "outputs": [
    {
     "name": "stdout",
     "output_type": "stream",
     "text": [
      "edad_actual_grandes_grupos\n",
      "18 a 29     8080\n",
      "30 a 39     4969\n",
      "40 y mas    4607\n",
      "0 a 17      1147\n",
      "Name: cantidad, dtype: int64\n"
     ]
    }
   ],
   "source": [
    "\n",
    "# Agrupa los datos por la columna 'edad_actual_grandes_grupos' y suma la 'cantidad'\n",
    "distribucion_edad = df.groupby('edad_actual_grandes_grupos')['cantidad'].sum()\n",
    "\n",
    "# Ordena los resultados de mayor a menor para encontrar el grupo principal\n",
    "grupo_mas_grande = distribucion_edad.sort_values(ascending=False)\n",
    "\n",
    "# Muestra el resultado\n",
    "print(grupo_mas_grande)"
   ]
  },
  {
   "cell_type": "code",
   "execution_count": null,
   "id": "b20deacb",
   "metadata": {},
   "outputs": [],
   "source": [
    "# Convierte la columna de fecha a formato datetime\n",
    "df['fecha'] = pd.to_datetime(df['fecha'])\n",
    "\n",
    "# Ahora puedes configurar la columna de fecha como el índice del DataFrame\n",
    "df.set_index('fecha', inplace=True)"
   ]
  }
 ],
 "metadata": {
  "kernelspec": {
   "display_name": "Python 3",
   "language": "python",
   "name": "python3"
  },
  "language_info": {
   "codemirror_mode": {
    "name": "ipython",
    "version": 3
   },
   "file_extension": ".py",
   "mimetype": "text/x-python",
   "name": "python",
   "nbconvert_exporter": "python",
   "pygments_lexer": "ipython3",
   "version": "3.12.6"
  }
 },
 "nbformat": 4,
 "nbformat_minor": 5
}
